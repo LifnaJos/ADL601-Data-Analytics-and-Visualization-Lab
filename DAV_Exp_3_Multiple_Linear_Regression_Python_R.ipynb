{
  "nbformat": 4,
  "nbformat_minor": 0,
  "metadata": {
    "colab": {
      "provenance": [],
      "include_colab_link": true
    },
    "kernelspec": {
      "name": "python3",
      "display_name": "Python 3"
    },
    "language_info": {
      "name": "python"
    }
  },
  "cells": [
    {
      "cell_type": "markdown",
      "metadata": {
        "id": "view-in-github",
        "colab_type": "text"
      },
      "source": [
        "<a href=\"https://colab.research.google.com/github/LifnaJos/ADL601-Data-Analytics-and-Visualization-Lab/blob/main/DAV_Exp_3_Multiple_Linear_Regression_Python_R.ipynb\" target=\"_parent\"><img src=\"https://colab.research.google.com/assets/colab-badge.svg\" alt=\"Open In Colab\"/></a>"
      ]
    },
    {
      "cell_type": "markdown",
      "source": [
        "# Experiment - 3: Multiple Linear Regression in Python and R\n",
        "## Lab Outcomes (LO):\n",
        "* Implement various Regression techniques for prediction. (LO2)\n",
        "## Task to be performed :\n",
        "1. List the packages to be used for Multiple Linear Regression in Python\n",
        "2. Download the dataset from UCI Repository / Kaggle\n",
        "\n",
        "   -- Load data into Google Colab\n",
        "\n",
        "   -- Display the summary of the dataset\n",
        "3. Create a model and fit it\n",
        "4. Get the values : Coefficient of Determination, Intercept and Coefficients\n",
        "5. Predict the response\n",
        "6. Visualize the results with a graph\n",
        "7. Repeat the steps 2 to 6 using R libraries\n",
        "8. Prepare a Colab Notebook with the Aim, Tasks performed, Program, Output, and Conclusion and upload the Notebook in your Github Repositiry.\n",
        "9. Prepare a handwritten wrtieup with Aim, Theory and Conclusion.\n",
        "\n",
        "## Tools & Libraries to be explored\n",
        "* Python Libraries: scikit-learn, matplotlib, numpy, pandas\n",
        "* R Libraries: lm, ggplot2, dplyr, broom, ggubr\n",
        "\n",
        "## Theory to be written:\n",
        "1. Why do we need to study Multiple Linear Regression?\n",
        "2. Write the equation for Multiple Linear Regression.\n",
        "3. **Solve** : The following measurements have been obtained in a study. It is expected that the response variable y be described by the independent variables x1 and x2. Calculate the parameter estimates bo, b1 and b2.   \n",
        "   ![MLR Problem](https://github.com/LifnaJos/ADL601-Data-Analytics-and-Visualization-Lab/blob/main/Experiments/MLR_problem.png)\n",
        "\n",
        "## Outcome :\n",
        "* Understood the concept of Multiple Linear Regression\n",
        "* Explored the packages in Python and R\n",
        "* Performed Multiple Linear Regression using the Libraries in Python and R\n",
        "\n",
        "## Online REsources\n",
        "* [Multiple Linear REgression using MAtplotlib](https://saturncloud.io/blog/how-to-plot-for-multiple-linear-regression-model-using-matplotlib/)\n",
        "* [How to plot MLR in Python](https://www.javatpoint.com/how-to-plot-multiple-linear-regression-in-python)"
      ],
      "metadata": {
        "id": "NzaSPJdr6dDX"
      }
    },
    {
      "cell_type": "markdown",
      "source": [],
      "metadata": {
        "id": "dcP8FRns7qc-"
      }
    }
  ]
}