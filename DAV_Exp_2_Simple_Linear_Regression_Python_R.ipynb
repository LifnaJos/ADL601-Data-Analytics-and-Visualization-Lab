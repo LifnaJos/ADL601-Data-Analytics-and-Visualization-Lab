{
  "nbformat": 4,
  "nbformat_minor": 0,
  "metadata": {
    "colab": {
      "provenance": [],
      "include_colab_link": true
    },
    "kernelspec": {
      "name": "python3",
      "display_name": "Python 3"
    },
    "language_info": {
      "name": "python"
    }
  },
  "cells": [
    {
      "cell_type": "markdown",
      "metadata": {
        "id": "view-in-github",
        "colab_type": "text"
      },
      "source": [
        "<a href=\"https://colab.research.google.com/github/LifnaJos/ADL601-Data-Analytics-and-Visualization-Lab/blob/main/DAV_Exp_2_Simple_Linear_Regression_Python_R.ipynb\" target=\"_parent\"><img src=\"https://colab.research.google.com/assets/colab-badge.svg\" alt=\"Open In Colab\"/></a>"
      ]
    },
    {
      "cell_type": "markdown",
      "source": [
        "# Experiment - 1: Getting introduced to data analytics libraries in Python and R\n",
        "\n",
        "* Lab Outcomes (LO): Explore various data analytics Libraries in R and Python. (LO1)\n",
        "\n",
        "## Task to be performed :\n",
        "1. Explore Top-5 Data Analytics Libraries in Python (w.r.t Features & Applications)\n",
        "2. Explore Top-5 Data Analytics Libraries in R (w.r.t Features & Applications)\n",
        "3. Install 2 Libraries each for Python and R\n",
        "4. Perform simple experiments on the 2 identified libraries each for Python and R\n",
        "5. Prepare a document with the Aim, Tasks performed, Program, Output, and Conclusion.\n",
        "\n",
        "## Tools & Libraries to be explored\n",
        "* Python Libraries: [TensorFlow](https://www.tensorflow.org/), [NumPy](https://numpy.org/), [SciPy](https://scipy.org/), [Pandas](https://pandas.pydata.org/), [Keras](https://keras.io/), [scikit-learn](https://scikit-learn.org/stable/), [PyTorch](https://pytorch.org/tutorials/beginner/pytorch_with_examples.html), [Scrapy](https://www.zenrows.com/blog/scrapy-python#parse-html-content), [BeautifulSoup](https://realpython.com/beautiful-soup-web-scraper-python/), [PyBrain](https://www.tutorialspoint.com/pybrain/pybrain_quick_guide.htm)\n",
        "\n",
        "* R Libraries: [dplyr](https://www.listendata.com/2016/08/dplyr-tutorial.html), [tidyr](https://tidyr.tidyverse.org/), [readr](https://readr.tidyverse.org/), [stringr](https://cran.r-project.org/web/packages/stringr/vignettes/stringr.html), [ggplot2](https://r-statistics.co/Complete-Ggplot2-Tutorial-Part1-With-R-Code.html), [lubridate](https://cran.r-project.org/web/packages/lubridate/vignettes/lubridate.html), [jsonlite](https://cran.r-project.org/web/packages/jsonlite/vignettes/json-aaquickstart.html), [Shiny](https://shiny.posit.co/r/getstarted/shiny-basics/lesson1/index.html), [tseries](https://www.simplilearn.com/tutorials/data-science-tutorial/time-series-forecasting-in-r), [Prophet](https://medium.com/dropout-analytics/intro-to-prophet-r-7f650f86adc7)\n",
        "\n",
        "## Outcome :\n",
        "* Identified the Data Analytics Libraries in Python and R\n",
        "* Performed simple experiments with these libraries in Python and R\n",
        "\n",
        "# Online Resources\n",
        "* [Top Python Libraries for Data Science - Simpli Learn](https://www.simplilearn.com/top-python-libraries-for-data-science-article)\n",
        "* [Top Libraries in R for Data Science - Towards Data Science](https://towardsdatascience.com/top-r-libraries-for-data-science-9b24f658e243)"
      ],
      "metadata": {
        "id": "NzaSPJdr6dDX"
      }
    }
  ]
}